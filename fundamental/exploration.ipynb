{
 "cells": [
  {
   "cell_type": "code",
   "execution_count": 1,
   "metadata": {},
   "outputs": [
    {
     "name": "stdout",
     "output_type": "stream",
     "text": [
      "C:\\Users\\root\\Desktop\\practice coding\\TechJam2019\n"
     ]
    }
   ],
   "source": [
    "%matplotlib inline\n",
    "import os\n",
    "os.chdir(\"..\")\n",
    "print(os.getcwd())"
   ]
  },
  {
   "cell_type": "code",
   "execution_count": 2,
   "metadata": {},
   "outputs": [],
   "source": [
    "import pandas as pd\n",
    "import matplotlib.pyplot as plt\n",
    "\n",
    "import config\n",
    "import utils.DataMaker as dm"
   ]
  },
  {
   "cell_type": "code",
   "execution_count": 3,
   "metadata": {},
   "outputs": [],
   "source": [
    "train_income_df, test_income_df, demographic_df, cc_df, kplus_df, train_df, test_df = dm.read_all()"
   ]
  },
  {
   "cell_type": "markdown",
   "metadata": {},
   "source": [
    "# Train"
   ]
  },
  {
   "cell_type": "code",
   "execution_count": 4,
   "metadata": {
    "scrolled": true
   },
   "outputs": [
    {
     "data": {
      "text/html": [
       "<div>\n",
       "<style scoped>\n",
       "    .dataframe tbody tr th:only-of-type {\n",
       "        vertical-align: middle;\n",
       "    }\n",
       "\n",
       "    .dataframe tbody tr th {\n",
       "        vertical-align: top;\n",
       "    }\n",
       "\n",
       "    .dataframe thead th {\n",
       "        text-align: right;\n",
       "    }\n",
       "</style>\n",
       "<table border=\"1\" class=\"dataframe\">\n",
       "  <thead>\n",
       "    <tr style=\"text-align: right;\">\n",
       "      <th></th>\n",
       "      <th>income</th>\n",
       "      <th>cc_no</th>\n",
       "      <th>gender</th>\n",
       "      <th>ocp_cd</th>\n",
       "      <th>age</th>\n",
       "      <th>pos_dt</th>\n",
       "      <th>cc_txn_amt</th>\n",
       "      <th>cc_txn_cnt</th>\n",
       "      <th>cc_txn_mean</th>\n",
       "      <th>cc_count</th>\n",
       "      <th>kp_txn_count</th>\n",
       "      <th>kp_txn_amt</th>\n",
       "      <th>kp_txn_mean</th>\n",
       "    </tr>\n",
       "    <tr>\n",
       "      <th>id</th>\n",
       "      <th></th>\n",
       "      <th></th>\n",
       "      <th></th>\n",
       "      <th></th>\n",
       "      <th></th>\n",
       "      <th></th>\n",
       "      <th></th>\n",
       "      <th></th>\n",
       "      <th></th>\n",
       "      <th></th>\n",
       "      <th></th>\n",
       "      <th></th>\n",
       "      <th></th>\n",
       "    </tr>\n",
       "  </thead>\n",
       "  <tbody>\n",
       "    <tr>\n",
       "      <th>1</th>\n",
       "      <td>20000.0</td>\n",
       "      <td>98397</td>\n",
       "      <td>2</td>\n",
       "      <td>9.0</td>\n",
       "      <td>5</td>\n",
       "      <td>2018-02-17</td>\n",
       "      <td>44700.0</td>\n",
       "      <td>5</td>\n",
       "      <td>8940.000000</td>\n",
       "      <td>2</td>\n",
       "      <td>2.0</td>\n",
       "      <td>3500.0</td>\n",
       "      <td>1750.000000</td>\n",
       "    </tr>\n",
       "    <tr>\n",
       "      <th>2</th>\n",
       "      <td>106000.0</td>\n",
       "      <td>9740</td>\n",
       "      <td>2</td>\n",
       "      <td>3.0</td>\n",
       "      <td>4</td>\n",
       "      <td>2018-04-14</td>\n",
       "      <td>65200.0</td>\n",
       "      <td>42</td>\n",
       "      <td>1552.380952</td>\n",
       "      <td>2</td>\n",
       "      <td>104.0</td>\n",
       "      <td>210000.0</td>\n",
       "      <td>2019.230769</td>\n",
       "    </tr>\n",
       "    <tr>\n",
       "      <th>3</th>\n",
       "      <td>29000.0</td>\n",
       "      <td>3</td>\n",
       "      <td>2</td>\n",
       "      <td>1.0</td>\n",
       "      <td>3</td>\n",
       "      <td>0</td>\n",
       "      <td>0.0</td>\n",
       "      <td>0</td>\n",
       "      <td>0.000000</td>\n",
       "      <td>1</td>\n",
       "      <td>70.0</td>\n",
       "      <td>139700.0</td>\n",
       "      <td>1995.714286</td>\n",
       "    </tr>\n",
       "    <tr>\n",
       "      <th>4</th>\n",
       "      <td>61000.0</td>\n",
       "      <td>86813</td>\n",
       "      <td>2</td>\n",
       "      <td>3.0</td>\n",
       "      <td>5</td>\n",
       "      <td>2018-04-10</td>\n",
       "      <td>770000.0</td>\n",
       "      <td>36</td>\n",
       "      <td>21388.888889</td>\n",
       "      <td>2</td>\n",
       "      <td>315.0</td>\n",
       "      <td>6076100.0</td>\n",
       "      <td>19289.206349</td>\n",
       "    </tr>\n",
       "    <tr>\n",
       "      <th>5</th>\n",
       "      <td>18000.0</td>\n",
       "      <td>5</td>\n",
       "      <td>2</td>\n",
       "      <td>9.0</td>\n",
       "      <td>4</td>\n",
       "      <td>2018-01-27</td>\n",
       "      <td>12000.0</td>\n",
       "      <td>3</td>\n",
       "      <td>4000.000000</td>\n",
       "      <td>1</td>\n",
       "      <td>0.0</td>\n",
       "      <td>0.0</td>\n",
       "      <td>0.000000</td>\n",
       "    </tr>\n",
       "  </tbody>\n",
       "</table>\n",
       "</div>"
      ],
      "text/plain": [
       "      income  cc_no  gender  ocp_cd  age      pos_dt  cc_txn_amt  cc_txn_cnt  \\\n",
       "id                                                                             \n",
       "1    20000.0  98397       2     9.0    5  2018-02-17     44700.0           5   \n",
       "2   106000.0   9740       2     3.0    4  2018-04-14     65200.0          42   \n",
       "3    29000.0      3       2     1.0    3           0         0.0           0   \n",
       "4    61000.0  86813       2     3.0    5  2018-04-10    770000.0          36   \n",
       "5    18000.0      5       2     9.0    4  2018-01-27     12000.0           3   \n",
       "\n",
       "     cc_txn_mean  cc_count  kp_txn_count  kp_txn_amt   kp_txn_mean  \n",
       "id                                                                  \n",
       "1    8940.000000         2           2.0      3500.0   1750.000000  \n",
       "2    1552.380952         2         104.0    210000.0   2019.230769  \n",
       "3       0.000000         1          70.0    139700.0   1995.714286  \n",
       "4   21388.888889         2         315.0   6076100.0  19289.206349  \n",
       "5    4000.000000         1           0.0         0.0      0.000000  "
      ]
     },
     "execution_count": 4,
     "metadata": {},
     "output_type": "execute_result"
    }
   ],
   "source": [
    "train_df.head()"
   ]
  },
  {
   "cell_type": "code",
   "execution_count": 5,
   "metadata": {
    "scrolled": true
   },
   "outputs": [
    {
     "data": {
      "text/plain": [
       "2      792\n",
       "3    18974\n",
       "4    20142\n",
       "5     8019\n",
       "6     2073\n",
       "Name: age, dtype: int64"
      ]
     },
     "execution_count": 5,
     "metadata": {},
     "output_type": "execute_result"
    }
   ],
   "source": [
    "train_df[\"age\"].value_counts().sort_index()"
   ]
  },
  {
   "cell_type": "code",
   "execution_count": 6,
   "metadata": {},
   "outputs": [
    {
     "data": {
      "text/plain": [
       "50000"
      ]
     },
     "execution_count": 6,
     "metadata": {},
     "output_type": "execute_result"
    }
   ],
   "source": [
    "train_df[\"income\"].count()"
   ]
  },
  {
   "cell_type": "markdown",
   "metadata": {},
   "source": [
    "# Test"
   ]
  },
  {
   "cell_type": "code",
   "execution_count": 7,
   "metadata": {},
   "outputs": [
    {
     "data": {
      "text/html": [
       "<div>\n",
       "<style scoped>\n",
       "    .dataframe tbody tr th:only-of-type {\n",
       "        vertical-align: middle;\n",
       "    }\n",
       "\n",
       "    .dataframe tbody tr th {\n",
       "        vertical-align: top;\n",
       "    }\n",
       "\n",
       "    .dataframe thead th {\n",
       "        text-align: right;\n",
       "    }\n",
       "</style>\n",
       "<table border=\"1\" class=\"dataframe\">\n",
       "  <thead>\n",
       "    <tr style=\"text-align: right;\">\n",
       "      <th></th>\n",
       "      <th>cc_no</th>\n",
       "      <th>gender</th>\n",
       "      <th>ocp_cd</th>\n",
       "      <th>age</th>\n",
       "      <th>pos_dt</th>\n",
       "      <th>cc_txn_amt</th>\n",
       "      <th>cc_txn_cnt</th>\n",
       "      <th>cc_txn_mean</th>\n",
       "      <th>cc_count</th>\n",
       "      <th>kp_txn_count</th>\n",
       "      <th>kp_txn_amt</th>\n",
       "      <th>kp_txn_mean</th>\n",
       "    </tr>\n",
       "    <tr>\n",
       "      <th>id</th>\n",
       "      <th></th>\n",
       "      <th></th>\n",
       "      <th></th>\n",
       "      <th></th>\n",
       "      <th></th>\n",
       "      <th></th>\n",
       "      <th></th>\n",
       "      <th></th>\n",
       "      <th></th>\n",
       "      <th></th>\n",
       "      <th></th>\n",
       "      <th></th>\n",
       "    </tr>\n",
       "  </thead>\n",
       "  <tbody>\n",
       "    <tr>\n",
       "      <th>1</th>\n",
       "      <td>98397</td>\n",
       "      <td>2</td>\n",
       "      <td>9.0</td>\n",
       "      <td>5</td>\n",
       "      <td>2018-02-17</td>\n",
       "      <td>44700.0</td>\n",
       "      <td>5</td>\n",
       "      <td>8940.000000</td>\n",
       "      <td>2</td>\n",
       "      <td>2.0</td>\n",
       "      <td>3500.0</td>\n",
       "      <td>1750.000000</td>\n",
       "    </tr>\n",
       "    <tr>\n",
       "      <th>2</th>\n",
       "      <td>9740</td>\n",
       "      <td>2</td>\n",
       "      <td>3.0</td>\n",
       "      <td>4</td>\n",
       "      <td>2018-04-14</td>\n",
       "      <td>65200.0</td>\n",
       "      <td>42</td>\n",
       "      <td>1552.380952</td>\n",
       "      <td>2</td>\n",
       "      <td>104.0</td>\n",
       "      <td>210000.0</td>\n",
       "      <td>2019.230769</td>\n",
       "    </tr>\n",
       "    <tr>\n",
       "      <th>3</th>\n",
       "      <td>3</td>\n",
       "      <td>2</td>\n",
       "      <td>1.0</td>\n",
       "      <td>3</td>\n",
       "      <td>0</td>\n",
       "      <td>0.0</td>\n",
       "      <td>0</td>\n",
       "      <td>0.000000</td>\n",
       "      <td>1</td>\n",
       "      <td>70.0</td>\n",
       "      <td>139700.0</td>\n",
       "      <td>1995.714286</td>\n",
       "    </tr>\n",
       "    <tr>\n",
       "      <th>4</th>\n",
       "      <td>86813</td>\n",
       "      <td>2</td>\n",
       "      <td>3.0</td>\n",
       "      <td>5</td>\n",
       "      <td>2018-04-10</td>\n",
       "      <td>770000.0</td>\n",
       "      <td>36</td>\n",
       "      <td>21388.888889</td>\n",
       "      <td>2</td>\n",
       "      <td>315.0</td>\n",
       "      <td>6076100.0</td>\n",
       "      <td>19289.206349</td>\n",
       "    </tr>\n",
       "    <tr>\n",
       "      <th>5</th>\n",
       "      <td>5</td>\n",
       "      <td>2</td>\n",
       "      <td>9.0</td>\n",
       "      <td>4</td>\n",
       "      <td>2018-01-27</td>\n",
       "      <td>12000.0</td>\n",
       "      <td>3</td>\n",
       "      <td>4000.000000</td>\n",
       "      <td>1</td>\n",
       "      <td>0.0</td>\n",
       "      <td>0.0</td>\n",
       "      <td>0.000000</td>\n",
       "    </tr>\n",
       "  </tbody>\n",
       "</table>\n",
       "</div>"
      ],
      "text/plain": [
       "    cc_no  gender  ocp_cd  age      pos_dt  cc_txn_amt  cc_txn_cnt  \\\n",
       "id                                                                   \n",
       "1   98397       2     9.0    5  2018-02-17     44700.0           5   \n",
       "2    9740       2     3.0    4  2018-04-14     65200.0          42   \n",
       "3       3       2     1.0    3           0         0.0           0   \n",
       "4   86813       2     3.0    5  2018-04-10    770000.0          36   \n",
       "5       5       2     9.0    4  2018-01-27     12000.0           3   \n",
       "\n",
       "     cc_txn_mean  cc_count  kp_txn_count  kp_txn_amt   kp_txn_mean  \n",
       "id                                                                  \n",
       "1    8940.000000         2           2.0      3500.0   1750.000000  \n",
       "2    1552.380952         2         104.0    210000.0   2019.230769  \n",
       "3       0.000000         1          70.0    139700.0   1995.714286  \n",
       "4   21388.888889         2         315.0   6076100.0  19289.206349  \n",
       "5    4000.000000         1           0.0         0.0      0.000000  "
      ]
     },
     "execution_count": 7,
     "metadata": {},
     "output_type": "execute_result"
    }
   ],
   "source": [
    "test_df.head()"
   ]
  },
  {
   "cell_type": "code",
   "execution_count": 8,
   "metadata": {},
   "outputs": [
    {
     "data": {
      "text/plain": [
       "2     1094\n",
       "3    24941\n",
       "4    25859\n",
       "5    10426\n",
       "6     2680\n",
       "Name: age, dtype: int64"
      ]
     },
     "execution_count": 8,
     "metadata": {},
     "output_type": "execute_result"
    }
   ],
   "source": [
    "test_df[\"age\"].value_counts().sort_index()"
   ]
  },
  {
   "cell_type": "code",
   "execution_count": 9,
   "metadata": {},
   "outputs": [
    {
     "data": {
      "text/plain": [
       "1     39046\n",
       "2     17096\n",
       "3      6718\n",
       "4      1760\n",
       "5       318\n",
       "6        52\n",
       "7         8\n",
       "8         1\n",
       "11        1\n",
       "Name: cc_count, dtype: int64"
      ]
     },
     "execution_count": 9,
     "metadata": {},
     "output_type": "execute_result"
    }
   ],
   "source": [
    "test_df[\"cc_count\"].value_counts().sort_index()"
   ]
  },
  {
   "cell_type": "code",
   "execution_count": null,
   "metadata": {},
   "outputs": [],
   "source": []
  }
 ],
 "metadata": {
  "kernelspec": {
   "display_name": "Python 3",
   "language": "python",
   "name": "python3"
  },
  "language_info": {
   "codemirror_mode": {
    "name": "ipython",
    "version": 3
   },
   "file_extension": ".py",
   "mimetype": "text/x-python",
   "name": "python",
   "nbconvert_exporter": "python",
   "pygments_lexer": "ipython3",
   "version": "3.7.3"
  }
 },
 "nbformat": 4,
 "nbformat_minor": 2
}
